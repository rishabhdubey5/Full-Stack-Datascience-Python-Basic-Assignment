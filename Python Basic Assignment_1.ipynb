{
 "cells": [
  {
   "cell_type": "code",
   "execution_count": null,
   "metadata": {},
   "outputs": [],
   "source": [
    "1. In the below elements which of them are values or an expression? eg:- values can be integer or string and expressions will be mathematical operators.\n",
    "ANS:\n",
    "* --> Expression\n",
    "'hello' --> Values\n",
    "-87.8 --> Values\n",
    "- --> Expression\n",
    "/  --> Expression\n",
    "+\t--> Expression\n",
    "6 --> Values\n"
   ]
  },
  {
   "cell_type": "code",
   "execution_count": null,
   "metadata": {},
   "outputs": [],
   "source": [
    "2. What is the difference between string and variable?\n",
    "ANS:\n",
    "String: \n",
    "1) String is the list of characters or Sequence of characters.\n",
    "2) Character is something which we type like alphabets on the keyboard.\n",
    "3) Example: my_string = ‘Hello World’\n",
    "Variable : \n",
    "1)\tVariable holds the value that may change.\n",
    "2)\tIt is like an empty box where we are filling the stuffs.\n",
    "3)\tExample: my_dogs = 2\n"
   ]
  },
  {
   "cell_type": "code",
   "execution_count": null,
   "metadata": {},
   "outputs": [],
   "source": [
    "3. Describe three different data types.\n",
    "ANS: \n",
    "1)\tList: It is the order of sequence that can hold a variety of data.\n",
    "Example: my_list = [‘one’,’two’,’three’]\n",
    "2)\tDictionaries: Dictionaries are the unordered mapping of string objects.\n",
    "Example: my_dict ={‘key 1’ : ’value 1’, ‘key 2’ : ’value 2’}\n",
    "3)\tString: Strings are nothing but sequence of characters.\n",
    "Example: my_string = ‘Hello World’\n"
   ]
  },
  {
   "cell_type": "code",
   "execution_count": null,
   "metadata": {},
   "outputs": [],
   "source": [
    "4. What is an expression made up of? What do all expressions do?\n",
    "\n",
    "ANS: Expression is made up of containers, values and mathematical operators\n",
    "Example:  a = 3 + 2   and expressions are used to evaluate the values or represent the result on the screen.\n"
   ]
  },
  {
   "cell_type": "code",
   "execution_count": null,
   "metadata": {},
   "outputs": [],
   "source": [
    "5. This assignment statements, like spam = 10. What is the difference between an expression and a statement?\n",
    "\n",
    "ANS: Expression is made up of values, containers, and mathematical operators and the statement is just like a command that a python interpreter executes like print.\n"
   ]
  },
  {
   "cell_type": "code",
   "execution_count": null,
   "metadata": {},
   "outputs": [],
   "source": [
    "6. After running the following code, what does the variable bacon contain?\n",
    "bacon = 22\n",
    "bacon + 1\n",
    "\n",
    "ANS: 23\n"
   ]
  },
  {
   "cell_type": "code",
   "execution_count": null,
   "metadata": {},
   "outputs": [],
   "source": [
    "7. What should the values of the following two terms be?\n",
    "'spam' + 'spamspam'\n",
    "'spam' * 3\n",
    "\n",
    "ANS: Value will be same for both i.e spamspamspam\n"
   ]
  },
  {
   "cell_type": "code",
   "execution_count": null,
   "metadata": {},
   "outputs": [],
   "source": [
    "8. Why is eggs a valid variable name while 100 is invalid?\n",
    "\n",
    "ANS: because we can't start giving variable an integer name. \n",
    "if we, we should begin with, a string-like alphabet name then integer. eg100 or egg100 is valid\n"
   ]
  },
  {
   "cell_type": "code",
   "execution_count": null,
   "metadata": {},
   "outputs": [],
   "source": [
    "9. What three functions can be used to get the integer, floating-point number, or string version of a value?\n",
    "\n",
    "ANS: Functions like int() , float() , and str( ) will evaluate to the integer, floating-point number, \n",
    "    and string versions of the value passed to them.\n"
   ]
  },
  {
   "cell_type": "code",
   "execution_count": null,
   "metadata": {},
   "outputs": [],
   "source": [
    "10. Why does this expression cause an error? How can you fix it?\n",
    "'I have eaten ' + 99 + ' burritos.'\n",
    "\n",
    "ANS: We can only concatenate strings. And +99+ is an integer.\n"
   ]
  }
 ],
 "metadata": {
  "kernelspec": {
   "display_name": "Python 3",
   "language": "python",
   "name": "python3"
  },
  "language_info": {
   "codemirror_mode": {
    "name": "ipython",
    "version": 3
   },
   "file_extension": ".py",
   "mimetype": "text/x-python",
   "name": "python",
   "nbconvert_exporter": "python",
   "pygments_lexer": "ipython3",
   "version": "3.7.3"
  }
 },
 "nbformat": 4,
 "nbformat_minor": 2
}
