{
 "cells": [
  {
   "cell_type": "markdown",
   "metadata": {},
   "source": [
    "1. 1.What are the two values of the Boolean data type? How do you write them?\n",
    "\n",
    "Ans:- True and False, using capital T and F ."
   ]
  },
  {
   "cell_type": "code",
   "execution_count": 7,
   "metadata": {},
   "outputs": [
    {
     "name": "stdout",
     "output_type": "stream",
     "text": [
      "True\n",
      "False\n"
     ]
    }
   ],
   "source": [
    "#Eg:\n",
    "a=True\n",
    "b=False\n",
    "print(a)\n",
    "print(b)"
   ]
  },
  {
   "cell_type": "markdown",
   "metadata": {},
   "source": [
    "2. What are the three different types of Boolean operators?\n",
    "\n",
    "Ans:-\n",
    "\n",
    "AND, OR and NOT are the three different types of boolean operators.\n"
   ]
  },
  {
   "cell_type": "code",
   "execution_count": null,
   "metadata": {},
   "outputs": [],
   "source": [
    "3. Make a list of each Boolean operator's truth tables \n",
    "(i.e. every possible combination of Boolean values for the operator and what it evaluate ).\n",
    "\n",
    "Ans:-\n",
    "    True and True is True.\n",
    "\n",
    "True and False is False.\n",
    "\n",
    "False and True is False.\n",
    "\n",
    "False and False is False.\n",
    "\n",
    "True or True is True.\n",
    "\n",
    "True or False is True.\n",
    "\n",
    "False or True is True.\n",
    "\n",
    "False or False is False.\n",
    "\n",
    "not True is False.\n",
    "\n",
    "not False is True.\n",
    "\n",
    "True is 1 and False is 0\n",
    "Truth Table for AND\n",
    "A B output\n",
    "0 0 0\n",
    "0 1 0\n",
    "1 0 0\n",
    "1 1 1\n",
    "Truth Table for OR\n",
    "A B output\n",
    "0 0 0\n",
    "0 1 1\n",
    "1 0 1\n",
    "1 1 1\n",
    "Truth Table for NOT\n",
    "A output\n",
    "0 1\n",
    "1 0\n"
   ]
  },
  {
   "cell_type": "markdown",
   "metadata": {},
   "source": [
    "4. What are the values of the following expressions?\n",
    "Ans:-\n",
    "\n",
    "(5 > 4) and (3 == 5) = False\n",
    "not (5 > 4) = False\n",
    "(5 > 4) or (3 == 5) = True\n",
    "not ((5 > 4) or (3 == 5)) = False\n",
    "(True and True) and (True == False) = False\n",
    "(not False) or (not True) = True\n"
   ]
  },
  {
   "cell_type": "markdown",
   "metadata": {},
   "source": [
    "5. What are the six different types of reference operators?\n",
    "Ans:-\n",
    " ==, !=, <, >, <=, and >=\n",
    "\n",
    "Arithmatic Operators\n",
    "Relational Operators\n",
    "Assigment Operators\n",
    "Logical Operators\n",
    "Bitwise Operators\n",
    "Membership Operators\n",
    "Identity Operators"
   ]
  },
  {
   "cell_type": "markdown",
   "metadata": {},
   "source": [
    "6. How do you tell the difference between the equal to and assignment operators?Describe a condition and when you would use one.\n",
    "== is the equal to operator that compares two values and evaluates to a Boolean, while = is the assignment operator that stores a value in a variable.\n",
    "Ans:-"
   ]
  },
  {
   "cell_type": "code",
   "execution_count": 4,
   "metadata": {},
   "outputs": [
    {
     "name": "stdout",
     "output_type": "stream",
     "text": [
      "False\n",
      "c = 1\n"
     ]
    }
   ],
   "source": [
    "#eg.\n",
    "\n",
    "# Equal To Operator\n",
    "if(2==3):\n",
    "    print(\"True\")\n",
    "else:\n",
    "    print(\"False\")\n",
    "#Assignment operator\n",
    "c=1 #here we have used assignment operator(=) to assign value of c which is 1\n",
    "print(\"c =\",c)"
   ]
  },
  {
   "cell_type": "code",
   "execution_count": null,
   "metadata": {},
   "outputs": [],
   "source": [
    "7. Identify the three blocks in this code:\n",
    "spam = 0\n",
    "if spam == 10: # First Block\n",
    "    print('eggs')\n",
    "    if spam > 5: # Second Block\n",
    "        print('bacon')\n",
    "    else: # Third Block\n",
    "        print('ham')\n",
    "    print('spam')\n",
    "print('spam')\n"
   ]
  },
  {
   "cell_type": "markdown",
   "metadata": {},
   "source": [
    "8. Write code that prints Hello if 1 is stored in spam, prints Howdy if 2 is stored in spam, and prints Greetings! \n",
    "if anything else is stored in spam."
   ]
  },
  {
   "cell_type": "code",
   "execution_count": 5,
   "metadata": {},
   "outputs": [
    {
     "name": "stdout",
     "output_type": "stream",
     "text": [
      "Input a no.2\n",
      "Howdy\n"
     ]
    }
   ],
   "source": [
    "spam = int(input(\"Input a no.\"))\n",
    "if spam == 1:\n",
    "    print(\"Hello\")\n",
    "elif spam == 2:\n",
    "    print(\"Howdy\")\n",
    "else:\n",
    "    print(\"Greetings!\")"
   ]
  },
  {
   "cell_type": "code",
   "execution_count": null,
   "metadata": {},
   "outputs": [],
   "source": [
    "9. If your programme is stuck in an endless loop, what keys can you press?\n",
    "\n",
    "Ans:- Ctl + C\n",
    "\n"
   ]
  },
  {
   "cell_type": "code",
   "execution_count": null,
   "metadata": {},
   "outputs": [],
   "source": [
    "10. How can you tell the difference between break and continue?\n",
    "\n",
    "Ans:-\n",
    "\n",
    "Inside a loop if we use break statement, we will directly come out of that particular loop \n",
    "and executes the statements after the loop. If we use continue, we will directly go to \n",
    "increment/decrement statement of particular loop leaving the current iteration.\n",
    "\n"
   ]
  },
  {
   "cell_type": "code",
   "execution_count": null,
   "metadata": {},
   "outputs": [],
   "source": [
    "11. In a for loop, what is the difference between range(10), range(0, 10), and range(0, 10, 1)?\n",
    "Ans:-\n",
    "\n",
    "There is no difference between all three. \n",
    "in the range function start and step parameters are optional.\n",
    "i.e. If we don't mention the start parameter by default it will be 0, and \n",
    "if we don't mention the step parameter by default it will be 1"
   ]
  },
  {
   "cell_type": "code",
   "execution_count": null,
   "metadata": {},
   "outputs": [],
   "source": [
    "12. Using a for loop, write a short programme that prints the numbers 1 to 10 Then, \n",
    "using a while loop, create an identical programme that prints the numbers 1 to 10."
   ]
  },
  {
   "cell_type": "code",
   "execution_count": 3,
   "metadata": {},
   "outputs": [
    {
     "name": "stdout",
     "output_type": "stream",
     "text": [
      "Using For Loop = 1 2 3 4 5 6 7 8 9 10 \n",
      "Using While Loop = 1 2 3 4 5 6 7 8 9 10 "
     ]
    }
   ],
   "source": [
    "def print_numbers():\n",
    "    print(\"Using For Loop = \", end = '')\n",
    "    for i in range(1, 11):\n",
    "        print(i, end = ' ')\n",
    "    counter = 1\n",
    "    \n",
    "    print('\\nUsing While Loop = ', end = '')\n",
    "    while counter < 11:\n",
    "        print(counter, end = ' ')\n",
    "        counter += 1\n",
    "print_numbers()"
   ]
  },
  {
   "cell_type": "code",
   "execution_count": null,
   "metadata": {},
   "outputs": [],
   "source": [
    "13. If you had a bacon() function within a spam module, what would you call it after importing spam?\n",
    "\n",
    "Ans:-\n",
    "\n",
    "spam.bacon()"
   ]
  }
 ],
 "metadata": {
  "kernelspec": {
   "display_name": "Python 3",
   "language": "python",
   "name": "python3"
  },
  "language_info": {
   "codemirror_mode": {
    "name": "ipython",
    "version": 3
   },
   "file_extension": ".py",
   "mimetype": "text/x-python",
   "name": "python",
   "nbconvert_exporter": "python",
   "pygments_lexer": "ipython3",
   "version": "3.7.3"
  }
 },
 "nbformat": 4,
 "nbformat_minor": 2
}
